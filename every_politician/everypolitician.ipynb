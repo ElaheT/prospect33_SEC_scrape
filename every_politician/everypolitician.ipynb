{
 "cells": [
  {
   "cell_type": "code",
   "execution_count": 1,
   "metadata": {},
   "outputs": [],
   "source": [
    "import pandas as pd\n",
    "from tqdm.notebook import tqdm\n",
    "import sqlalchemy as sa\n",
    "from dotenv import load_dotenv\n",
    "import os"
   ]
  },
  {
   "cell_type": "code",
   "execution_count": 2,
   "metadata": {},
   "outputs": [],
   "source": [
    "# We have the countries.json -> link -> dataframe using pandas.\n",
    "# Iterate over the countries dataframe -> legislative_csv_urls\n",
    "# Moving to a database.-> to_sql method to move it to a database."
   ]
  },
  {
   "cell_type": "code",
   "execution_count": 3,
   "metadata": {},
   "outputs": [],
   "source": [
    "df = pd.read_json(\"https://cdn.rawgit.com/everypolitician/everypolitician-data/080cb46/countries.json\")"
   ]
  },
  {
   "cell_type": "code",
   "execution_count": 4,
   "metadata": {},
   "outputs": [
    {
     "data": {
      "text/html": [
       "<div>\n",
       "<style scoped>\n",
       "    .dataframe tbody tr th:only-of-type {\n",
       "        vertical-align: middle;\n",
       "    }\n",
       "\n",
       "    .dataframe tbody tr th {\n",
       "        vertical-align: top;\n",
       "    }\n",
       "\n",
       "    .dataframe thead th {\n",
       "        text-align: right;\n",
       "    }\n",
       "</style>\n",
       "<table border=\"1\" class=\"dataframe\">\n",
       "  <thead>\n",
       "    <tr style=\"text-align: right;\">\n",
       "      <th></th>\n",
       "      <th>name</th>\n",
       "      <th>country</th>\n",
       "      <th>code</th>\n",
       "      <th>slug</th>\n",
       "      <th>legislatures</th>\n",
       "    </tr>\n",
       "  </thead>\n",
       "  <tbody>\n",
       "    <tr>\n",
       "      <th>0</th>\n",
       "      <td>Abkhazia</td>\n",
       "      <td>Abkhazia</td>\n",
       "      <td>GE-AB</td>\n",
       "      <td>Abkhazia</td>\n",
       "      <td>[{'name': 'People's Assembly', 'slug': 'Assemb...</td>\n",
       "    </tr>\n",
       "    <tr>\n",
       "      <th>1</th>\n",
       "      <td>Afghanistan</td>\n",
       "      <td>Afghanistan</td>\n",
       "      <td>AF</td>\n",
       "      <td>Afghanistan</td>\n",
       "      <td>[{'name': 'Wolesi Jirga', 'slug': 'Wolesi-Jirg...</td>\n",
       "    </tr>\n",
       "    <tr>\n",
       "      <th>2</th>\n",
       "      <td>Albania</td>\n",
       "      <td>Albania</td>\n",
       "      <td>AL</td>\n",
       "      <td>Albania</td>\n",
       "      <td>[{'name': 'Kuvendi', 'slug': 'Assembly', 'sour...</td>\n",
       "    </tr>\n",
       "    <tr>\n",
       "      <th>3</th>\n",
       "      <td>Alderney</td>\n",
       "      <td>Alderney</td>\n",
       "      <td>GG-ALD</td>\n",
       "      <td>Alderney</td>\n",
       "      <td>[{'name': 'States', 'slug': 'States', 'sources...</td>\n",
       "    </tr>\n",
       "    <tr>\n",
       "      <th>4</th>\n",
       "      <td>Algeria</td>\n",
       "      <td>Algeria</td>\n",
       "      <td>DZ</td>\n",
       "      <td>Algeria</td>\n",
       "      <td>[{'name': 'People's National Assembly', 'slug'...</td>\n",
       "    </tr>\n",
       "  </tbody>\n",
       "</table>\n",
       "</div>"
      ],
      "text/plain": [
       "          name      country    code         slug  \\\n",
       "0     Abkhazia     Abkhazia   GE-AB     Abkhazia   \n",
       "1  Afghanistan  Afghanistan      AF  Afghanistan   \n",
       "2      Albania      Albania      AL      Albania   \n",
       "3     Alderney     Alderney  GG-ALD     Alderney   \n",
       "4      Algeria      Algeria      DZ      Algeria   \n",
       "\n",
       "                                        legislatures  \n",
       "0  [{'name': 'People's Assembly', 'slug': 'Assemb...  \n",
       "1  [{'name': 'Wolesi Jirga', 'slug': 'Wolesi-Jirg...  \n",
       "2  [{'name': 'Kuvendi', 'slug': 'Assembly', 'sour...  \n",
       "3  [{'name': 'States', 'slug': 'States', 'sources...  \n",
       "4  [{'name': 'People's National Assembly', 'slug'...  "
      ]
     },
     "execution_count": 4,
     "metadata": {},
     "output_type": "execute_result"
    }
   ],
   "source": [
    "df.head()"
   ]
  },
  {
   "cell_type": "code",
   "execution_count": 5,
   "metadata": {},
   "outputs": [],
   "source": [
    "def get_csv_urls(df):\n",
    "    csv_dict = {}\n",
    "    for idx, row in df.iterrows():\n",
    "        country_name = row[\"country\"]\n",
    "        country_code = row[\"code\"]\n",
    "        for leg in row[\"legislatures\"]:\n",
    "            leg_name = leg[\"name\"]\n",
    "            for leg_period in leg[\"legislative_periods\"]:\n",
    "                st_dt = leg_period[\"start_date\"]\n",
    "                if \"end_date\" in leg_period.keys():\n",
    "                    ed_dt = leg_period[\"end_date\"]\n",
    "                else:\n",
    "                    ed_dt = \"\"\n",
    "                csv_url = leg_period[\"csv_url\"]\n",
    "                csv_dict[(country_name, country_code, leg_name, st_dt, ed_dt)] = csv_url\n",
    "    return csv_dict"
   ]
  },
  {
   "cell_type": "code",
   "execution_count": 6,
   "metadata": {},
   "outputs": [],
   "source": [
    "urls = get_csv_urls(df)"
   ]
  },
  {
   "cell_type": "code",
   "execution_count": 7,
   "metadata": {},
   "outputs": [],
   "source": [
    "def get_politician_data(pol_urls):\n",
    "    all_politician_df = []\n",
    "    for keys, value in tqdm(pol_urls.items()):\n",
    "        try:\n",
    "            politician_df = pd.read_csv(value)\n",
    "            politician_df[\"country_name\"] = keys[0]\n",
    "            politician_df[\"country_code\"] = keys[1]\n",
    "            politician_df[\"leg_name\"] = keys[2]\n",
    "            politician_df[\"start_date_legislature\"] = keys[3]\n",
    "            politician_df[\"end_date_legislature\"] = keys[4]\n",
    "            all_politician_df.append(politician_df)\n",
    "        except Exception as e:\n",
    "            print(f\"For the url {value} got error {e}\")\n",
    "    return pd.concat(all_politician_df)\n",
    "        \n",
    "        "
   ]
  },
  {
   "cell_type": "code",
   "execution_count": 8,
   "metadata": {},
   "outputs": [
    {
     "data": {
      "application/vnd.jupyter.widget-view+json": {
       "model_id": "b6fb56bd5ebe4bf69c71e05b51d8be5d",
       "version_major": 2,
       "version_minor": 0
      },
      "text/plain": [
       "HBox(children=(FloatProgress(value=0.0, max=672.0), HTML(value='')))"
      ]
     },
     "metadata": {},
     "output_type": "display_data"
    },
    {
     "name": "stdout",
     "output_type": "stream",
     "text": [
      "For the url https://cdn.rawgit.com/everypolitician/everypolitician-data/0b326e2/data/Ecuador/Asamblea/term-2013.csv got error HTTP Error 404: Not Found\n",
      "For the url https://cdn.rawgit.com/everypolitician/everypolitician-data/8102167/data/Montserrat/Assembly/term-1.csv got error HTTP Error 404: Not Found\n",
      "For the url https://cdn.rawgit.com/everypolitician/everypolitician-data/fbd3ca5/data/Norway/Storting/term-1969-73.csv got error HTTP Error 404: Not Found\n",
      "For the url https://cdn.rawgit.com/everypolitician/everypolitician-data/fbd3ca5/data/Norway/Storting/term-1965-69.csv got error HTTP Error 404: Not Found\n",
      "For the url https://cdn.rawgit.com/everypolitician/everypolitician-data/6baa026/data/Seychelles/Assembly/term-2011.csv got error HTTP Error 404: Not Found\n",
      "For the url https://cdn.rawgit.com/everypolitician/everypolitician-data/fedacb2/data/Turkmenistan/Mejlis/term-5.csv got error HTTP Error 404: Not Found\n",
      "For the url https://cdn.rawgit.com/everypolitician/everypolitician-data/fedacb2/data/Turkmenistan/Mejlis/term-4.csv got error HTTP Error 404: Not Found\n",
      "\n"
     ]
    }
   ],
   "source": [
    "pol_df = get_politician_data(urls)"
   ]
  },
  {
   "cell_type": "code",
   "execution_count": 9,
   "metadata": {},
   "outputs": [],
   "source": [
    "usa = pol_df[pol_df.country_code=='US']"
   ]
  },
  {
   "cell_type": "code",
   "execution_count": 9,
   "metadata": {},
   "outputs": [],
   "source": [
    "pol_df.to_csv(\"politician_data.csv\", index=False)"
   ]
  },
  {
   "cell_type": "code",
   "execution_count": 10,
   "metadata": {},
   "outputs": [
    {
     "name": "stderr",
     "output_type": "stream",
     "text": [
      "C:\\ProgramData\\Anaconda3\\lib\\site-packages\\IPython\\core\\interactiveshell.py:3063: DtypeWarning: Columns (11) have mixed types.Specify dtype option on import or set low_memory=False.\n",
      "  interactivity=interactivity, compiler=compiler, result=result)\n"
     ]
    }
   ],
   "source": [
    "pol_df = pd.read_csv(\"politician_data.csv\", encoding='utf-8')"
   ]
  },
  {
   "cell_type": "code",
   "execution_count": 12,
   "metadata": {},
   "outputs": [],
   "source": [
    "from sqlalchemy import create_engine\n",
    "\n",
    "load_dotenv()\n",
    "\n",
    "connect = \"postgresql+psycopg2://%s:%s@%s:5432/%s\" % (\n",
    "    os.getenv(\"user\"),\n",
    "    os.getenv(\"password\"),\n",
    "    os.getenv(\"host\"),\n",
    "    os.getenv(\"database\")\n",
    ")\n"
   ]
  },
  {
   "cell_type": "code",
   "execution_count": 13,
   "metadata": {},
   "outputs": [],
   "source": [
    "def to_alchemy(df):\n",
    "\n",
    "    engine = create_engine(connect)\n",
    "    df.to_sql(\n",
    "        'usa_politician', \n",
    "        con=engine, \n",
    "        index=False, \n",
    "        if_exists='replace'\n",
    "    )\n",
    "    print(\"to_sql() done (sqlalchemy)\")"
   ]
  },
  {
   "cell_type": "code",
   "execution_count": 14,
   "metadata": {},
   "outputs": [
    {
     "name": "stdout",
     "output_type": "stream",
     "text": [
      "to_sql() done (sqlalchemy)\n"
     ]
    }
   ],
   "source": [
    "to_alchemy(usa)"
   ]
  },
  {
   "cell_type": "code",
   "execution_count": 15,
   "metadata": {},
   "outputs": [],
   "source": [
    "# Figure, out the unicode for entering the other characters to a database."
   ]
  },
  {
   "cell_type": "code",
   "execution_count": 14,
   "metadata": {},
   "outputs": [],
   "source": [
    "from sqlalchemy import create_engine\n",
    "\n",
    "load_dotenv()\n",
    "\n",
    "connect = \"postgresql+psycopg2://%s:%s@%s:5432/%s\" % (\n",
    "    os.getenv(\"user\"),\n",
    "    os.getenv(\"password\"),\n",
    "    os.getenv(\"host\"),\n",
    "    os.getenv(\"database\")\n",
    ")\n"
   ]
  },
  {
   "cell_type": "code",
   "execution_count": 15,
   "metadata": {},
   "outputs": [],
   "source": [
    "def to_alchemy(df):\n",
    "\n",
    "    engine = create_engine(connect)\n",
    "    df.to_sql(\n",
    "        'every_politician', \n",
    "        con=engine, \n",
    "        index=False, \n",
    "        if_exists='replace'\n",
    "    )\n",
    "    print(\"to_sql() done (sqlalchemy)\")"
   ]
  },
  {
   "cell_type": "code",
   "execution_count": 16,
   "metadata": {},
   "outputs": [
    {
     "name": "stdout",
     "output_type": "stream",
     "text": [
      "to_sql() done (sqlalchemy)\n"
     ]
    }
   ],
   "source": [
    "to_alchemy(pol_df)"
   ]
  }
 ],
 "metadata": {
  "kernelspec": {
   "display_name": "Python 3",
   "language": "python",
   "name": "python3"
  },
  "language_info": {
   "codemirror_mode": {
    "name": "ipython",
    "version": 3
   },
   "file_extension": ".py",
   "mimetype": "text/x-python",
   "name": "python",
   "nbconvert_exporter": "python",
   "pygments_lexer": "ipython3",
   "version": "3.7.6"
  }
 },
 "nbformat": 4,
 "nbformat_minor": 4
}
